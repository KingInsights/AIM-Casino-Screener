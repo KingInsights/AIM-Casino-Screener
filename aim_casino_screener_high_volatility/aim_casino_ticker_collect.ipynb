{
 "cells": [
  {
   "cell_type": "markdown",
   "id": "f550c5a9-c539-4109-b3a6-c664226f50cd",
   "metadata": {},
   "source": [
    "### Introduction\n",
    "\n",
    "In this project, the goal is to collect all AIM tickers from the London Stock Exchange site. These tickers will be stored in a list and subsequently saved as a CSV file for use in our AIM projects.\n"
   ]
  },
  {
   "cell_type": "code",
   "execution_count": 6,
   "id": "a683f11a-6bb8-45ec-95d4-841bc5e53731",
   "metadata": {},
   "outputs": [
    {
     "name": "stdout",
     "output_type": "stream",
     "text": [
      "https://api.londonstockexchange.com/api/v1/pages?path=live-markets/market-data-dashboard/price-explorer&parameters=markets%253DAIM\n"
     ]
    },
    {
     "data": {
      "text/plain": [
       "200"
      ]
     },
     "execution_count": 6,
     "metadata": {},
     "output_type": "execute_result"
    }
   ],
   "source": [
    "# Initially, BeautifulSoup was not a viable option as the webpage retrieves data via an API call.\n",
    "# Therefore, the API endpoint was identified, and a cURL converter was used to obtain the necessary headers and URL.\n",
    "# The URLs were then manipulated to ensure they could be utilized within the function and loop.\n",
    "# This approach allowed the code to retrieve data efficiently by making HTTP GET requests to the constructed URLs,\n",
    "\n",
    "\n",
    "import requests\n",
    "import requests\n",
    "\n",
    "headers = {\n",
    "    'accept': 'application/json, text/plain, */*',\n",
    "    'accept-language': 'en-GB,en;q=0.9,en-US;q=0.8',\n",
    "    'origin': 'https://www.londonstockexchange.com',\n",
    "    'priority': 'u=1, i',\n",
    "    'referer': 'https://www.londonstockexchange.com/',\n",
    "    'sec-ch-ua': '\"Not/A)Brand\";v=\"8\", \"Chromium\";v=\"126\", \"Microsoft Edge\";v=\"126\"',\n",
    "    'sec-ch-ua-mobile': '?0',\n",
    "    'sec-ch-ua-platform': '\"Windows\"',\n",
    "    'sec-fetch-dest': 'empty',\n",
    "    'sec-fetch-mode': 'cors',\n",
    "    'sec-fetch-site': 'same-site',\n",
    "    'user-agent': 'Mozilla/5.0 (Windows NT 10.0; Win64; x64) AppleWebKit/537.36 (KHTML, like Gecko) Chrome/126.0.0.0 Safari/537.36 Edg/126.0.0.0',\n",
    "}\n",
    "\n",
    "response = requests.get(\n",
    "    'https://api.londonstockexchange.com/api/v1/pages?path=live-markets/market-data-dashboard/price-explorer&parameters=markets%253DAIM',\n",
    "    headers=headers,\n",
    ")\n",
    "\n",
    "# Extract the requested URL from curl converter so we can format it for the def fetch_page_data \n",
    "requested_url = response.url\n",
    "print(requested_url)\n",
    "\n",
    "\n",
    "# Output the status code of the response\n",
    "response.status_code"
   ]
  },
  {
   "cell_type": "code",
   "execution_count": 2,
   "id": "dad9a86a-c049-41c3-9d8c-3d7339de3236",
   "metadata": {},
   "outputs": [],
   "source": [
    "# Page 0 is different from all other pages, so it will be treated separately.\n",
    "# https://api.londonstockexchange.com/api/v1/pages?path=live-markets/market-data-dashboard/price-explorer&parameters=markets%253DAIM\n",
    "# https://api.londonstockexchange.com/api/v1/pages?path=live-markets/market-data-dashboard/price-explorer&parameters=markets%253DAIM%2526page%253D1"
   ]
  },
  {
   "cell_type": "code",
   "execution_count": 7,
   "id": "0149a03a-cade-4d6e-abe2-6152f56ab536",
   "metadata": {},
   "outputs": [
    {
     "name": "stdout",
     "output_type": "stream",
     "text": [
      "https://api.londonstockexchange.com/api/v1/pages?path=live-markets/market-data-dashboard/price-explorer&parameters=markets%253DAIM\n"
     ]
    }
   ],
   "source": [
    "# page 0 to get data separately\n",
    "requested_page_0 = requested_url\n",
    "print(requested_page_0)"
   ]
  },
  {
   "cell_type": "code",
   "execution_count": 8,
   "id": "c7d57dab-af53-4872-9e81-c4035ad80e42",
   "metadata": {},
   "outputs": [
    {
     "name": "stdout",
     "output_type": "stream",
     "text": [
      "https://api.londonstockexchange.com/api/v1/pages?path=live-markets/market-data-dashboard/price-explorer&parameters=markets%253DAIM%2526page%253D\n"
     ]
    }
   ],
   "source": [
    "# now lets's create a base_url (without page numbers)\n",
    "# to be uses in the loop where we can increment the page on each iteration \n",
    "\n",
    "# Define the page parameter to append\n",
    "page_parameter = '%2526page%253D'\n",
    "\n",
    "# Append the page parameter to the requested URL\n",
    "base_url = requested_url + page_parameter\n",
    "\n",
    "# Print the modified URL to verify\n",
    "print(base_url)"
   ]
  },
  {
   "cell_type": "code",
   "execution_count": 9,
   "id": "f8e65e1f-6b1c-4806-829b-3158a2fb240b",
   "metadata": {},
   "outputs": [
    {
     "name": "stderr",
     "output_type": "stream",
     "text": [
      "100%|██████████████████████████████████████████████████████████████████████████████████| 39/39 [01:15<00:00,  1.93s/it]\n"
     ]
    },
    {
     "data": {
      "text/html": [
       "<div>\n",
       "<style scoped>\n",
       "    .dataframe tbody tr th:only-of-type {\n",
       "        vertical-align: middle;\n",
       "    }\n",
       "\n",
       "    .dataframe tbody tr th {\n",
       "        vertical-align: top;\n",
       "    }\n",
       "\n",
       "    .dataframe thead th {\n",
       "        text-align: right;\n",
       "    }\n",
       "</style>\n",
       "<table border=\"1\" class=\"dataframe\">\n",
       "  <thead>\n",
       "    <tr style=\"text-align: right;\">\n",
       "      <th></th>\n",
       "      <th>TIDM</th>\n",
       "    </tr>\n",
       "  </thead>\n",
       "  <tbody>\n",
       "    <tr>\n",
       "      <th>0</th>\n",
       "      <td>SPA.L</td>\n",
       "    </tr>\n",
       "    <tr>\n",
       "      <th>1</th>\n",
       "      <td>450.L</td>\n",
       "    </tr>\n",
       "    <tr>\n",
       "      <th>2</th>\n",
       "      <td>4BB.L</td>\n",
       "    </tr>\n",
       "    <tr>\n",
       "      <th>3</th>\n",
       "      <td>4GBL.L</td>\n",
       "    </tr>\n",
       "    <tr>\n",
       "      <th>4</th>\n",
       "      <td>88E.L</td>\n",
       "    </tr>\n",
       "  </tbody>\n",
       "</table>\n",
       "</div>"
      ],
      "text/plain": [
       "     TIDM\n",
       "0   SPA.L\n",
       "1   450.L\n",
       "2   4BB.L\n",
       "3  4GBL.L\n",
       "4   88E.L"
      ]
     },
     "execution_count": 9,
     "metadata": {},
     "output_type": "execute_result"
    }
   ],
   "source": [
    "# The code retrieves data from a series of URLs using the requests.get method.\n",
    "# For each URL, it extracts all instances of the key-value pair 'tidm' from the JSON response.\n",
    "# This extraction process is performed in a loop, iterating through multiple pages to ensure all 'tidms' are collected.\n",
    "# The 'tidms' gathered from each page are stored in a list.\n",
    "# Once all 'tidms' are gathered, the list is converted into a DataFrame and saved as a CSV file for further use.\n",
    "\n",
    "# TIDM stands for Tradable Instrument Display Mnemonic. It is a unique code used to \n",
    "# identify securities listed on the London Stock Exchange (LSE).\n",
    "\n",
    "\n",
    "import requests\n",
    "import pandas as pd\n",
    "from tqdm import tqdm  # Import tqdm for the progress bar\n",
    "\n",
    "# Function to fetch data from a specific page\n",
    "def fetch_page_data(page_number):\n",
    "    url = f'{base_url}{page_number}'  # Construct the URL with the current page number\n",
    "    response = requests.get(url, headers=headers)  # Make the request to the URL\n",
    "    \n",
    "    if response.status_code == 200:\n",
    "        return response.json()  # Return JSON response if the request is successful\n",
    "    else:\n",
    "        print(f\"Failed to fetch data for page {page_number}\")\n",
    "        return None  # Return None if the request fails\n",
    "\n",
    "# Function to check if a TIDM is valid\n",
    "def is_valid_tidms(item):\n",
    "    # Check if the item is a dictionary containing unwanted metadata\n",
    "    if isinstance(item, dict):\n",
    "        if 'visibility' in item or 'label' in item or 'errorTe' in item:\n",
    "            return False\n",
    "    return True\n",
    "\n",
    "# Recursive function to find all TIDMs in the data\n",
    "def find_tidms(data):\n",
    "    tidms = []\n",
    "\n",
    "    if isinstance(data, dict):  # If data is a dictionary\n",
    "        for key, value in data.items():\n",
    "            if key == \"tidm\" and is_valid_tidms(value):\n",
    "                tidms.append(value)\n",
    "            elif isinstance(value, (dict, list)):\n",
    "                tidms.extend(find_tidms(value))\n",
    "    elif isinstance(data, list):  # If data is a list\n",
    "        for item in data:\n",
    "            if is_valid_tidms(item):\n",
    "                tidms.extend(find_tidms(item))\n",
    "\n",
    "    return tidms\n",
    "\n",
    "# Initialize an empty list to collect all TIDMs\n",
    "all_tidms = []\n",
    "\n",
    "# Fetch the first page separately\n",
    "first_page_url = requested_page_0\n",
    "first_page_data = fetch_page_data(first_page_url)\n",
    "if first_page_data:\n",
    "    tidms = find_tidms(first_page_data)\n",
    "    all_tidms.extend(tidms)\n",
    "\n",
    "# Use tqdm to display a progress bar while looping through subsequent pages\n",
    "for page_number in tqdm(range(1, 40)):\n",
    "    page_url = f'{base_url}{page_number}'\n",
    "    page_data = fetch_page_data(page_number)\n",
    "    if page_data:\n",
    "        tidms = find_tidms(page_data)\n",
    "        all_tidms.extend(tidms)\n",
    "\n",
    "# Convert the list of TIDMs to a DataFrame\n",
    "\n",
    "df = pd.DataFrame(all_tidms, columns=['TIDM'])\n",
    "\n",
    "\n",
    "df['TIDM'] = df['TIDM'].apply(lambda x: f'{x}L' if x.endswith('.') else f'{x}.L')\n",
    "\n",
    "\n",
    "# Save the DataFrame to a CSV file\n",
    "df.to_csv('aim_ticker_list.csv', index=False)\n",
    "\n",
    "# Print DataFrame to verify\n",
    "df.head()\n"
   ]
  },
  {
   "cell_type": "code",
   "execution_count": null,
   "id": "deb7f7fd-b677-4b05-b80f-732896250793",
   "metadata": {},
   "outputs": [],
   "source": []
  }
 ],
 "metadata": {
  "kernelspec": {
   "display_name": "Python 3 (ipykernel)",
   "language": "python",
   "name": "python3"
  },
  "language_info": {
   "codemirror_mode": {
    "name": "ipython",
    "version": 3
   },
   "file_extension": ".py",
   "mimetype": "text/x-python",
   "name": "python",
   "nbconvert_exporter": "python",
   "pygments_lexer": "ipython3",
   "version": "3.11.5"
  }
 },
 "nbformat": 4,
 "nbformat_minor": 5
}
